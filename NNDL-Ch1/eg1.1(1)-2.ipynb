{
 "cells": [
  {
   "cell_type": "markdown",
   "metadata": {},
   "source": [
    "# Example 1.1: implementing a neuron"
   ]
  },
  {
   "cell_type": "code",
   "execution_count": null,
   "metadata": {},
   "outputs": [
    {
     "name": "stdout",
     "output_type": "stream",
     "text": [
      "2.5.0\n"
     ]
    }
   ],
   "source": [
    "# import tensorflow\n",
    "import tensorflow as tf\n",
    "\n",
    "print(tf.__version__)"
   ]
  },
  {
   "cell_type": "code",
   "execution_count": null,
   "metadata": {},
   "outputs": [],
   "source": [
    "class Neuron():\n",
    "  def __init__(self):\n",
    "    self.w = tf.Variable([2.5, -0.2, 1.0], tf.float32)\n",
    "    self.b = tf.Variable(-0.5, tf.float32)\n",
    "\n",
    "  def __call__(self, x):\n",
    "    u = tf.tensordot(self.w, x, axes=1) + self.b   # axes=1 for dot product\n",
    "    y = 0.8/(1+tf.exp(-1.2*u))\n",
    "    return u, y"
   ]
  },
  {
   "cell_type": "code",
   "execution_count": null,
   "metadata": {},
   "outputs": [],
   "source": [
    "neuron = Neuron()"
   ]
  },
  {
   "cell_type": "code",
   "execution_count": null,
   "metadata": {},
   "outputs": [],
   "source": [
    "u, y = neuron([0.8, 2.0, -0.5])\n",
    "\n",
    "print('u: %.3f, y: %.3f'%(u, y))"
   ]
  },
  {
   "cell_type": "code",
   "execution_count": null,
   "metadata": {},
   "outputs": [],
   "source": [
    "u, y = neuron([-0.4, 1.5, 1.0])\n",
    "\n",
    "print('u: %.3f, y: %.3f'%(u, y))"
   ]
  }
 ],
 "metadata": {
  "kernelspec": {
   "display_name": "Python 3",
   "language": "python",
   "name": "python3"
  },
  "language_info": {
   "codemirror_mode": {
    "name": "ipython",
    "version": 3
   },
   "file_extension": ".py",
   "mimetype": "text/x-python",
   "name": "python",
   "nbconvert_exporter": "python",
   "pygments_lexer": "ipython3",
   "version": "3.7.9"
  }
 },
 "nbformat": 4,
 "nbformat_minor": 2
}
