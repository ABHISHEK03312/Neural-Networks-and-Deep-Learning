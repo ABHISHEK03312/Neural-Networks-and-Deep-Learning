{
 "cells": [
  {
   "cell_type": "markdown",
   "metadata": {},
   "source": [
    "# Example 4.5: classification of MNIST data"
   ]
  },
  {
   "cell_type": "code",
   "execution_count": 1,
   "metadata": {},
   "outputs": [],
   "source": [
    "import tensorflow as tf\n",
    "from tensorflow.keras import Sequential\n",
    "from tensorflow.keras.layers import Flatten, Dense\n",
    "from tensorflow.keras.callbacks import Callback\n",
    "from tensorflow.keras.datasets import mnist\n",
    "\n",
    "# Helper libraries\n",
    "import numpy as np\n",
    "import matplotlib.pyplot as plt\n",
    "import time"
   ]
  },
  {
   "cell_type": "markdown",
   "metadata": {},
   "source": [
    "## Set the parameters"
   ]
  },
  {
   "cell_type": "code",
   "execution_count": 2,
   "metadata": {},
   "outputs": [],
   "source": [
    "batch_size = 128\n",
    "num_classes = 10\n",
    "no_epochs = 30\n",
    "\n",
    "tf.random.set_seed(10)"
   ]
  },
  {
   "cell_type": "markdown",
   "metadata": {},
   "source": [
    "## Read and scale the data"
   ]
  },
  {
   "cell_type": "code",
   "execution_count": 3,
   "metadata": {},
   "outputs": [],
   "source": [
    "(x_train, y_train), (x_test, y_test) = mnist.load_data()\n",
    "x_train, x_test = x_train / 255.0, x_test / 255.0"
   ]
  },
  {
   "cell_type": "markdown",
   "metadata": {},
   "source": [
    "## Define the DNN model"
   ]
  },
  {
   "cell_type": "code",
   "execution_count": 4,
   "metadata": {},
   "outputs": [],
   "source": [
    "# create a multilayer networks\n",
    "model = Sequential([\n",
    "  Flatten(input_shape=(28, 28)),\n",
    "  Dense(625, activation='relu'),\n",
    "  Dense(100, activation='relu'),\n",
    "  Dense(10, activation='softmax')\n",
    "])\n",
    "\n",
    "# configures the model for training\n",
    "model.compile(optimizer='sgd',\n",
    "              loss='sparse_categorical_crossentropy',\n",
    "              metrics=['accuracy'])"
   ]
  },
  {
   "cell_type": "markdown",
   "metadata": {},
   "source": [
    "## Callback to record timing"
   ]
  },
  {
   "cell_type": "code",
   "execution_count": 5,
   "metadata": {},
   "outputs": [],
   "source": [
    "class TimingCallback(Callback):\n",
    "    def __init__(self, logs={}):\n",
    "        self.times=[]\n",
    "    def on_train_batch_begin(self, batch, logs={}):\n",
    "        self.starttime = time.time()\n",
    "    def on_train_batch_end(self, batch, logs={}):\n",
    "        self.times.append(time.time()-self.starttime)\n",
    "\n",
    "cb = TimingCallback()"
   ]
  },
  {
   "cell_type": "markdown",
   "metadata": {},
   "source": [
    "## Train the network"
   ]
  },
  {
   "cell_type": "code",
   "execution_count": 6,
   "metadata": {},
   "outputs": [
    {
     "name": "stdout",
     "output_type": "stream",
     "text": [
      "Epoch 1/30\n",
      "469/469 - 3s - loss: 1.0487 - accuracy: 0.7581 - val_loss: 0.4969 - val_accuracy: 0.8820\n",
      "Epoch 2/30\n",
      "469/469 - 2s - loss: 0.4320 - accuracy: 0.8876 - val_loss: 0.3525 - val_accuracy: 0.9063\n",
      "Epoch 3/30\n",
      "469/469 - 2s - loss: 0.3458 - accuracy: 0.9056 - val_loss: 0.3051 - val_accuracy: 0.9139\n",
      "Epoch 4/30\n",
      "469/469 - 3s - loss: 0.3064 - accuracy: 0.9142 - val_loss: 0.2768 - val_accuracy: 0.9237\n",
      "Epoch 5/30\n",
      "469/469 - 3s - loss: 0.2811 - accuracy: 0.9210 - val_loss: 0.2582 - val_accuracy: 0.9281\n",
      "Epoch 6/30\n",
      "469/469 - 4s - loss: 0.2617 - accuracy: 0.9262 - val_loss: 0.2458 - val_accuracy: 0.9290\n",
      "Epoch 7/30\n",
      "469/469 - 3s - loss: 0.2462 - accuracy: 0.9303 - val_loss: 0.2296 - val_accuracy: 0.9356\n",
      "Epoch 8/30\n",
      "469/469 - 2s - loss: 0.2330 - accuracy: 0.9343 - val_loss: 0.2181 - val_accuracy: 0.9377\n",
      "Epoch 9/30\n",
      "469/469 - 3s - loss: 0.2212 - accuracy: 0.9370 - val_loss: 0.2098 - val_accuracy: 0.9404\n",
      "Epoch 10/30\n",
      "469/469 - 4s - loss: 0.2109 - accuracy: 0.9403 - val_loss: 0.2017 - val_accuracy: 0.9417\n",
      "Epoch 11/30\n",
      "469/469 - 3s - loss: 0.2011 - accuracy: 0.9437 - val_loss: 0.1946 - val_accuracy: 0.9440\n",
      "Epoch 12/30\n",
      "469/469 - 2s - loss: 0.1928 - accuracy: 0.9460 - val_loss: 0.1855 - val_accuracy: 0.9461\n",
      "Epoch 13/30\n",
      "469/469 - 2s - loss: 0.1849 - accuracy: 0.9480 - val_loss: 0.1793 - val_accuracy: 0.9475\n",
      "Epoch 14/30\n",
      "469/469 - 2s - loss: 0.1776 - accuracy: 0.9509 - val_loss: 0.1739 - val_accuracy: 0.9501\n",
      "Epoch 15/30\n",
      "469/469 - 2s - loss: 0.1708 - accuracy: 0.9523 - val_loss: 0.1685 - val_accuracy: 0.9502\n",
      "Epoch 16/30\n",
      "469/469 - 2s - loss: 0.1643 - accuracy: 0.9535 - val_loss: 0.1625 - val_accuracy: 0.9520\n",
      "Epoch 17/30\n",
      "469/469 - 2s - loss: 0.1584 - accuracy: 0.9554 - val_loss: 0.1576 - val_accuracy: 0.9534\n",
      "Epoch 18/30\n",
      "469/469 - 2s - loss: 0.1529 - accuracy: 0.9572 - val_loss: 0.1524 - val_accuracy: 0.9548\n",
      "Epoch 19/30\n",
      "469/469 - 2s - loss: 0.1477 - accuracy: 0.9586 - val_loss: 0.1482 - val_accuracy: 0.9562\n",
      "Epoch 20/30\n",
      "469/469 - 2s - loss: 0.1428 - accuracy: 0.9603 - val_loss: 0.1436 - val_accuracy: 0.9563\n",
      "Epoch 21/30\n",
      "469/469 - 2s - loss: 0.1383 - accuracy: 0.9612 - val_loss: 0.1411 - val_accuracy: 0.9586\n",
      "Epoch 22/30\n",
      "469/469 - 2s - loss: 0.1338 - accuracy: 0.9624 - val_loss: 0.1374 - val_accuracy: 0.9587\n",
      "Epoch 23/30\n",
      "469/469 - 2s - loss: 0.1296 - accuracy: 0.9638 - val_loss: 0.1345 - val_accuracy: 0.9604\n",
      "Epoch 24/30\n",
      "469/469 - 2s - loss: 0.1256 - accuracy: 0.9651 - val_loss: 0.1325 - val_accuracy: 0.9604\n",
      "Epoch 25/30\n",
      "469/469 - 2s - loss: 0.1218 - accuracy: 0.9663 - val_loss: 0.1274 - val_accuracy: 0.9627\n",
      "Epoch 26/30\n",
      "469/469 - 2s - loss: 0.1185 - accuracy: 0.9669 - val_loss: 0.1251 - val_accuracy: 0.9633\n",
      "Epoch 27/30\n",
      "469/469 - 2s - loss: 0.1150 - accuracy: 0.9679 - val_loss: 0.1226 - val_accuracy: 0.9638\n",
      "Epoch 28/30\n",
      "469/469 - 2s - loss: 0.1119 - accuracy: 0.9692 - val_loss: 0.1190 - val_accuracy: 0.9648\n",
      "Epoch 29/30\n",
      "469/469 - 2s - loss: 0.1086 - accuracy: 0.9701 - val_loss: 0.1174 - val_accuracy: 0.9642\n",
      "Epoch 30/30\n",
      "469/469 - 2s - loss: 0.1057 - accuracy: 0.9706 - val_loss: 0.1147 - val_accuracy: 0.9654\n"
     ]
    }
   ],
   "source": [
    "history = model.fit(x_train, y_train,\n",
    "                    batch_size=batch_size,\n",
    "                    epochs=no_epochs,\n",
    "                    verbose=2,\n",
    "                    use_multiprocessing=True,\n",
    "                    callbacks = [cb],\n",
    "                    validation_data=(x_test, y_test))"
   ]
  },
  {
   "cell_type": "code",
   "execution_count": 7,
   "metadata": {},
   "outputs": [
    {
     "name": "stdout",
     "output_type": "stream",
     "text": [
      "time for a weight update: 0.00480995 s\n"
     ]
    }
   ],
   "source": [
    "print('time for a weight update: %g s'%np.average(cb.times))"
   ]
  },
  {
   "cell_type": "markdown",
   "metadata": {},
   "source": [
    "## Plot the learning curves"
   ]
  },
  {
   "cell_type": "code",
   "execution_count": 8,
   "metadata": {},
   "outputs": [
    {
     "data": {
      "image/png": "[encoded data removed]",
      "text/plain": [
       "<Figure size 432x288 with 1 Axes>"
      ]
     },
     "metadata": {
      "needs_background": "light"
     },
     "output_type": "display_data"
    },
    {
     "data": {
      "image/png": "[encoded data removed]",
      "text/plain": [
       "<Figure size 432x288 with 1 Axes>"
      ]
     },
     "metadata": {
      "needs_background": "light"
     },
     "output_type": "display_data"
    }
   ],
   "source": [
    "plt.figure(1)\n",
    "plt.plot(history.history['accuracy'])\n",
    "plt.plot(history.history['val_accuracy'])\n",
    "plt.title('model accuracy')\n",
    "plt.ylabel('accuracy')\n",
    "plt.xlabel('epoch')\n",
    "plt.xticks([5, 10, 15, 20, 25, 30])\n",
    "plt.legend(['train', 'test'], loc='upper left')\n",
    "plt.savefig('figures/4.5a_1.png')\n",
    "\n",
    "# summarize history for loss\n",
    "plt.figure(2)\n",
    "plt.plot(history.history['loss'])\n",
    "plt.plot(history.history['val_loss'])\n",
    "plt.title('model loss')\n",
    "plt.ylabel('cross-entropy')\n",
    "plt.xlabel('epoch')\n",
    "plt.xticks([5, 10, 15, 20, 25, 30])\n",
    "plt.legend(['train', 'test'], loc='upper left')\n",
    "plt.savefig('figures/4.5a_2.png')"
   ]
  },
  {
   "cell_type": "code",
   "execution_count": null,
   "metadata": {},
   "outputs": [],
   "source": []
  }
 ],
 "metadata": {
  "kernelspec": {
   "display_name": "Python 3",
   "language": "python",
   "name": "python3"
  },
  "language_info": {
   "codemirror_mode": {
    "name": "ipython",
    "version": 3
   },
   "file_extension": ".py",
   "mimetype": "text/x-python",
   "name": "python",
   "nbconvert_exporter": "python",
   "pygments_lexer": "ipython3",
   "version": "3.7.9"
  }
 },
 "nbformat": 4,
 "nbformat_minor": 2
}
