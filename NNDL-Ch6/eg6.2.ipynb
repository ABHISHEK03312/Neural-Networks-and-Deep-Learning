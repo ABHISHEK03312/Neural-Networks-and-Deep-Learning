{
 "cells": [
  {
   "cell_type": "markdown",
   "metadata": {
    "tags": []
   },
   "source": [
    "# Chapter 6, example 2"
   ]
  },
  {
   "cell_type": "code",
   "execution_count": 1,
   "metadata": {
    "tags": []
   },
   "outputs": [
    {
     "name": "stdout",
     "output_type": "stream",
     "text": [
      "2.5.0\n"
     ]
    }
   ],
   "source": [
    "import tensorflow as tf\n",
    "import numpy as np\n",
    "from tensorflow.keras import Model, layers, models\n",
    "import matplotlib.pyplot as plt\n",
    "\n",
    "# Check the version of Tensorflow (2.2.0)\n",
    "print(tf.__version__)"
   ]
  },
  {
   "cell_type": "code",
   "execution_count": 2,
   "metadata": {
    "tags": []
   },
   "outputs": [],
   "source": [
    "# Load and prepare the MNIST dataset. Convert the samples from integers to floating-point numbers:\n",
    "mnist = tf.keras.datasets.mnist\n",
    "(x_train, y_train), (x_test, y_test) = mnist.load_data()\n",
    "x_train, x_test = x_train / 255.0, x_test / 255.0\n"
   ]
  },
  {
   "cell_type": "code",
   "execution_count": 3,
   "metadata": {
    "tags": []
   },
   "outputs": [
    {
     "data": {
      "text/plain": [
       "<matplotlib.image.AxesImage at 0x7fa3b131dfd0>"
      ]
     },
     "execution_count": 3,
     "metadata": {},
     "output_type": "execute_result"
    },
    {
     "data": {
      "image/png": "[encoded data removed]",
      "text/plain": [
       "<Figure size 432x288 with 1 Axes>"
      ]
     },
     "metadata": {
      "needs_background": "light"
     },
     "output_type": "display_data"
    }
   ],
   "source": [
    "# Select a random sample\n",
    "seed = 1\n",
    "np.random.seed(seed)\n",
    "ind = np.random.randint(low=0, high=55000)\n",
    "x = x_train[ind, :].astype(np.float32)\n",
    "plt.imshow(x, cmap='gray')\n"
   ]
  },
  {
   "cell_type": "code",
   "execution_count": 4,
   "metadata": {},
   "outputs": [],
   "source": [
    "# Model definition\n",
    "class MyModel(Model):\n",
    "    def __init__(self):\n",
    "        super(MyModel, self).__init__()\n",
    "        self.seq = models.Sequential()\n",
    "        self.seq.add(layers.Conv2D(3, 3, padding='VALID', input_shape=[28,28,1], use_bias=False))\n",
    "\n",
    "    def call(self, x):\n",
    "        x1 = self.seq(x)\n",
    "        x2 = tf.nn.sigmoid(x1)\n",
    "        x3 = tf.nn.max_pool(x2, ksize=[1, 2, 2, 1], strides = [1, 2, 2, 1], padding = 'VALID')\n",
    "        return x1, x3\n"
   ]
  },
  {
   "cell_type": "code",
   "execution_count": 5,
   "metadata": {
    "tags": []
   },
   "outputs": [],
   "source": [
    "# Set filters\n",
    "w = np.array([[[-1, 0, 1],[-2, 0, 2], [-1, 0, 1]],\n",
    "     [[1, 2, 1],[0, 0, 0], [-1, -2, -1]],\n",
    "     [[3, 4, 3], [4, 5, 4], [3, 4, 3]]]).astype(np.float32).reshape(3,3,1,3)"
   ]
  },
  {
   "cell_type": "code",
   "execution_count": 6,
   "metadata": {
    "tags": []
   },
   "outputs": [
    {
     "name": "stdout",
     "output_type": "stream",
     "text": [
      "Model: \"sequential\"\n",
      "_________________________________________________________________\n",
      "Layer (type)                 Output Shape              Param #   \n",
      "=================================================================\n",
      "conv2d (Conv2D)              (None, 26, 26, 3)         27        \n",
      "=================================================================\n",
      "Total params: 27\n",
      "Trainable params: 27\n",
      "Non-trainable params: 0\n",
      "_________________________________________________________________\n",
      "<tf.Variable 'conv2d/kernel:0' shape=(3, 3, 1, 3) dtype=float32, numpy=\n",
      "array([[[[-1.,  0.,  1.]],\n",
      "\n",
      "        [[-2.,  0.,  2.]],\n",
      "\n",
      "        [[-1.,  0.,  1.]]],\n",
      "\n",
      "\n",
      "       [[[ 1.,  2.,  1.]],\n",
      "\n",
      "        [[ 0.,  0.,  0.]],\n",
      "\n",
      "        [[-1., -2., -1.]]],\n",
      "\n",
      "\n",
      "       [[[ 3.,  4.,  3.]],\n",
      "\n",
      "        [[ 4.,  5.,  4.]],\n",
      "\n",
      "        [[ 3.,  4.,  3.]]]], dtype=float32)>\n"
     ]
    }
   ],
   "source": [
    "model = MyModel()\n",
    "model.seq.summary() \n",
    "model.seq.set_weights([w])\n",
    "# filters\n",
    "print(model.seq.weights[0])\n"
   ]
  },
  {
   "cell_type": "code",
   "execution_count": 7,
   "metadata": {
    "tags": []
   },
   "outputs": [
    {
     "name": "stdout",
     "output_type": "stream",
     "text": [
      "(28, 28)\n",
      "(26, 26, 3)\n",
      "(13, 13, 3)\n"
     ]
    }
   ],
   "source": [
    "# evaluate\n",
    "u, o = model(x.reshape([1, 28, 28, 1]))\n",
    "print(x.shape)\n",
    "print(u.shape[1:])\n",
    "print(o.shape[1:])"
   ]
  },
  {
   "cell_type": "code",
   "execution_count": 8,
   "metadata": {},
   "outputs": [
    {
     "data": {
      "text/plain": [
       "<matplotlib.image.AxesImage at 0x7fa39d0cd310>"
      ]
     },
     "execution_count": 8,
     "metadata": {},
     "output_type": "execute_result"
    },
    {
     "data": {
      "image/png": "[encoded data removed]",
      "text/plain": [
       "<Figure size 432x288 with 1 Axes>"
      ]
     },
     "metadata": {
      "needs_background": "light"
     },
     "output_type": "display_data"
    }
   ],
   "source": [
    "# plot input image\n",
    "plt.figure()\n",
    "plt.gray()\n",
    "plt.axis('off')\n",
    "plt.imshow(x.reshape(28,28))"
   ]
  },
  {
   "cell_type": "code",
   "execution_count": 9,
   "metadata": {},
   "outputs": [
    {
     "data": {
      "text/plain": [
       "(<matplotlib.axes._subplots.AxesSubplot at 0x7fa39d1d67d0>,\n",
       " (0.0, 1.0, 0.0, 1.0),\n",
       " <matplotlib.image.AxesImage at 0x7fa39d245c10>)"
      ]
     },
     "execution_count": 9,
     "metadata": {},
     "output_type": "execute_result"
    },
    {
     "data": {
      "image/png": "[encoded data removed]",
      "text/plain": [
       "<Figure size 432x288 with 3 Axes>"
      ]
     },
     "metadata": {
      "needs_background": "light"
     },
     "output_type": "display_data"
    }
   ],
   "source": [
    "# plot u of convolution layer\n",
    "plt.figure()\n",
    "plt.gray()\n",
    "plt.subplot(1,3,1), plt.axis('off'), plt.imshow(u[0,:,:,0])\n",
    "plt.subplot(1,3,2), plt.axis('off'), plt.imshow(u[0,:,:,1])\n",
    "plt.subplot(1,3,3), plt.axis('off'), plt.imshow(u[0,:,:,2])"
   ]
  },
  {
   "cell_type": "code",
   "execution_count": 10,
   "metadata": {},
   "outputs": [
    {
     "data": {
      "text/plain": [
       "(<matplotlib.axes._subplots.AxesSubplot at 0x7fa39d284e50>,\n",
       " (0.0, 1.0, 0.0, 1.0),\n",
       " <matplotlib.image.AxesImage at 0x7fa39d35b8d0>)"
      ]
     },
     "execution_count": 10,
     "metadata": {},
     "output_type": "execute_result"
    },
    {
     "data": {
      "image/png": "[encoded data removed]",
      "text/plain": [
       "<Figure size 432x288 with 3 Axes>"
      ]
     },
     "metadata": {
      "needs_background": "light"
     },
     "output_type": "display_data"
    }
   ],
   "source": [
    "# plot output o of pooling layer\n",
    "plt.figure()\n",
    "plt.gray()\n",
    "plt.subplot(1,3,1), plt.axis('off'), plt.imshow(o[0,:,:,0])\n",
    "plt.subplot(1,3,2), plt.axis('off'), plt.imshow(o[0,:,:,1])\n",
    "plt.subplot(1,3,3), plt.axis('off'), plt.imshow(o[0,:,:,2])"
   ]
  },
  {
   "cell_type": "code",
   "execution_count": null,
   "metadata": {},
   "outputs": [],
   "source": []
  }
 ],
 "metadata": {
  "kernelspec": {
   "display_name": "Python 3",
   "language": "python",
   "name": "python3"
  },
  "language_info": {
   "codemirror_mode": {
    "name": "ipython",
    "version": 3
   },
   "file_extension": ".py",
   "mimetype": "text/x-python",
   "name": "python",
   "nbconvert_exporter": "python",
   "pygments_lexer": "ipython3",
   "version": "3.7.9"
  }
 },
 "nbformat": 4,
 "nbformat_minor": 2
}
