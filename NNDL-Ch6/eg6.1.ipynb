{
 "cells": [
  {
   "cell_type": "markdown",
   "metadata": {
    "tags": []
   },
   "source": [
    "# Chapter 6, Example 1"
   ]
  },
  {
   "cell_type": "code",
   "execution_count": 1,
   "metadata": {
    "tags": []
   },
   "outputs": [
    {
     "name": "stdout",
     "output_type": "stream",
     "text": [
      "2.5.0\n"
     ]
    }
   ],
   "source": [
    "import tensorflow as tf\n",
    "import numpy as np\n",
    "from tensorflow.keras import Model, layers, models\n",
    "\n",
    "# Check the version of Tensorflow (2.2.0)\n",
    "print(tf.__version__)"
   ]
  },
  {
   "cell_type": "code",
   "execution_count": 2,
   "metadata": {
    "tags": []
   },
   "outputs": [
    {
     "name": "stdout",
     "output_type": "stream",
     "text": [
      "[[ 0.5 -0.1  0.2  0.3  0.5]\n",
      " [ 0.8  0.1 -0.5  0.5  0.1]\n",
      " [-1.   0.2  0.   0.3 -0.2]\n",
      " [ 0.7  0.1  0.2 -0.6  0.3]\n",
      " [-0.4  0.   0.2  0.3 -0.3]]\n"
     ]
    }
   ],
   "source": [
    "# Input image\n",
    "I = np.array([[0.5, -0.1, 0.2, 0.3, 0.5],\n",
    "              [0.8, 0.1, -0.5, 0.5, 0.1],\n",
    "              [-1.0, 0.2, 0.0, 0.3, -0.2],\n",
    "              [0.7, 0.1, 0.2, -0.6, 0.3],\n",
    "              [-0.4, 0.0, 0.2, 0.3, -0.3]]).astype(np.float32)\n",
    "print(I)"
   ]
  },
  {
   "cell_type": "code",
   "execution_count": 3,
   "metadata": {
    "tags": []
   },
   "outputs": [],
   "source": [
    "# Model definition\n",
    "class MyModel(Model):\n",
    "    def __init__(self, pad):\n",
    "        super(MyModel, self).__init__()\n",
    "        self.seq = models.Sequential()\n",
    "        self.seq.add(layers.Conv2D(1, 3, strides=(1,1), padding=pad, input_shape=[5,5,1]))\n",
    "\n",
    "    def call(self, x):\n",
    "        u = self.seq(x)\n",
    "        y = tf.nn.sigmoid(u)\n",
    "        return u,y\n"
   ]
  },
  {
   "cell_type": "code",
   "execution_count": 4,
   "metadata": {},
   "outputs": [],
   "source": [
    "# Set filters and bias\n",
    "w = np.array([[0, 1, 1],[1, 0, 1], [1, 1, 0]]).astype(np.float32).reshape(3,3,1,1)\n",
    "b = np.array([0.05]).astype(np.float32)"
   ]
  },
  {
   "cell_type": "code",
   "execution_count": 5,
   "metadata": {
    "tags": []
   },
   "outputs": [
    {
     "name": "stdout",
     "output_type": "stream",
     "text": [
      "Model: \"sequential\"\n",
      "_________________________________________________________________\n",
      "Layer (type)                 Output Shape              Param #   \n",
      "=================================================================\n",
      "conv2d (Conv2D)              (None, 3, 3, 1)           10        \n",
      "=================================================================\n",
      "Total params: 10\n",
      "Trainable params: 10\n",
      "Non-trainable params: 0\n",
      "_________________________________________________________________\n",
      "<tf.Variable 'conv2d/kernel:0' shape=(3, 3, 1, 1) dtype=float32, numpy=\n",
      "array([[[[0.]],\n",
      "\n",
      "        [[1.]],\n",
      "\n",
      "        [[1.]]],\n",
      "\n",
      "\n",
      "       [[[1.]],\n",
      "\n",
      "        [[0.]],\n",
      "\n",
      "        [[1.]]],\n",
      "\n",
      "\n",
      "       [[[1.]],\n",
      "\n",
      "        [[1.]],\n",
      "\n",
      "        [[0.]]]], dtype=float32)>\n",
      "<tf.Variable 'conv2d/bias:0' shape=(1,) dtype=float32, numpy=array([0.05], dtype=float32)>\n"
     ]
    }
   ],
   "source": [
    "# VALID padding for convolution\n",
    "model = MyModel('VALID')\n",
    "# SAME padding for convolution\n",
    "# model = MyModel('same'')\n",
    "\n",
    "model.seq.summary() \n",
    "model.seq.set_weights([w,b])\n",
    "# filters\n",
    "print(model.seq.weights[0])\n",
    "# bias\n",
    "print(model.seq.weights[1])\n"
   ]
  },
  {
   "cell_type": "code",
   "execution_count": 6,
   "metadata": {
    "tags": []
   },
   "outputs": [
    {
     "name": "stdout",
     "output_type": "stream",
     "text": [
      "VALID padding for convolution\n",
      "\n",
      "u: [[-0.35000002  1.3499999   0.75000006]\n",
      " [-0.54999995  0.85        0.04999997]\n",
      " [ 0.75        0.05        1.15      ]]\n",
      "\n",
      "y: [[0.4133824  0.7941296  0.6791787 ]\n",
      " [0.36586443 0.7005671  0.51249737]\n",
      " [0.6791787  0.51249737 0.7595109 ]]\n",
      "\n"
     ]
    }
   ],
   "source": [
    "# evaluate u and y\n",
    "u, y = model(I.reshape([1, 5, 5, 1]))\n",
    "print('VALID padding for convolution\\n')\n",
    "print('u: %s\\n'%np.array(u).reshape([3, 3]))\n",
    "print('y: %s\\n'%np.array(y).reshape([3, 3]))"
   ]
  },
  {
   "cell_type": "code",
   "execution_count": 7,
   "metadata": {
    "tags": []
   },
   "outputs": [
    {
     "name": "stdout",
     "output_type": "stream",
     "text": [
      "VALID padding for pooling\n",
      "o: [[0.7941296]]\n"
     ]
    }
   ],
   "source": [
    "# evaluate o for VALID\n",
    "o = tf.nn.max_pool(y, ksize=[1, 2, 2, 1], strides = [1, 2, 2, 1], padding = 'VALID')\n",
    "print('VALID padding for pooling')\n",
    "print('o: %s'%np.array(o).reshape([1, 1]))"
   ]
  },
  {
   "cell_type": "code",
   "execution_count": 8,
   "metadata": {
    "tags": []
   },
   "outputs": [
    {
     "name": "stdout",
     "output_type": "stream",
     "text": [
      "SAME padding for pooling\n",
      "o: [[0.7941296 0.6791787]\n",
      " [0.6791787 0.7595109]]\n"
     ]
    }
   ],
   "source": [
    "# evaluate o for SAME\n",
    "o = tf.nn.max_pool(y, ksize=[1, 2, 2, 1], strides = [1, 2, 2, 1], padding = 'SAME')\n",
    "print('SAME padding for pooling')\n",
    "print('o: %s'%np.array(o).reshape([2, 2]))"
   ]
  }
 ],
 "metadata": {
  "kernelspec": {
   "display_name": "Python 3",
   "language": "python",
   "name": "python3"
  },
  "language_info": {
   "codemirror_mode": {
    "name": "ipython",
    "version": 3
   },
   "file_extension": ".py",
   "mimetype": "text/x-python",
   "name": "python",
   "nbconvert_exporter": "python",
   "pygments_lexer": "ipython3",
   "version": "3.7.9"
  }
 },
 "nbformat": 4,
 "nbformat_minor": 2
}
