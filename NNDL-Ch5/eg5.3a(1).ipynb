{
 "cells": [
  {
   "cell_type": "markdown",
   "metadata": {},
   "source": [
    "# Chapter 4, Example 3a\n",
    "## Three-way data split on Iris data"
   ]
  },
  {
   "cell_type": "code",
   "execution_count": 1,
   "metadata": {},
   "outputs": [],
   "source": [
    "import tensorflow as tf\n",
    "from tensorflow.keras import Sequential\n",
    "from tensorflow.keras.layers import Dense\n",
    "\n",
    "from sklearn import datasets\n",
    "\n",
    "# Helper libraries\n",
    "import numpy as np\n",
    "import matplotlib.pyplot as plt\n",
    "\n",
    "import os\n",
    "if not os.path.isdir('figures'):\n",
    "    os.makedirs('figures')"
   ]
  },
  {
   "cell_type": "code",
   "execution_count": 2,
   "metadata": {},
   "outputs": [],
   "source": [
    "no_epochs = 1000\n",
    "\n",
    "no_labels = 3\n",
    "no_features = 4\n",
    "hidden_units = [2, 4, 6, 8, 10, 12]\n",
    "\n",
    "no_folds = 3\n",
    "\n",
    "seed = 10\n",
    "tf.random.set_seed(seed)\n",
    "np.random.seed(seed)"
   ]
  },
  {
   "cell_type": "code",
   "execution_count": 3,
   "metadata": {},
   "outputs": [],
   "source": [
    "def train_exp(X, Y):\n",
    "\n",
    "    x_train, y_train = X[:50], Y[:50]\n",
    "    x_valid, y_valid = X[50:100], Y[50:100] \n",
    "    x_test, y_test = X[100:], Y[100:]\n",
    "\n",
    "    acc = []\n",
    "    for no_hidden in hidden_units:\n",
    "        \n",
    "        model = Sequential([\n",
    "            Dense(no_hidden, activation='relu'),\n",
    "            Dense(no_labels, activation='softmax')])\n",
    "    \n",
    "        model.compile(optimizer='sgd',\n",
    "                      loss='sparse_categorical_crossentropy',\n",
    "                      metrics=['accuracy'])\n",
    "    \n",
    "        history = model.fit(x_train, y_train,\n",
    "                            epochs=no_epochs,\n",
    "                            verbose=0,\n",
    "                            use_multiprocessing=False,\n",
    "                            validation_data=(x_valid, y_valid))\n",
    "    \n",
    "        acc_ = history.history['val_accuracy'][no_epochs-1]\n",
    "        acc.append(acc_)\n",
    "        print('hidden units %d mean error = %g'% (no_hidden, acc_))\n",
    "        \n",
    "    no_hidden = hidden_units[np.argmax(acc)]\n",
    "    \n",
    "    x_train, y_train = X[:100], Y[:100]\n",
    "    \n",
    "    model = Sequential([\n",
    "                Dense(no_hidden, activation='relu'),\n",
    "                Dense(no_labels, activation='softmax')])\n",
    "    \n",
    "    model.compile(optimizer='sgd',\n",
    "                  loss='sparse_categorical_crossentropy',\n",
    "                  metrics=['accuracy'])\n",
    "    \n",
    "    history = model.fit(x_train, y_train,\n",
    "                        epochs=no_epochs,\n",
    "                        verbose=0,\n",
    "                        use_multiprocessing=False,\n",
    "                        validation_data=(x_test, y_test))\n",
    "    \n",
    "    return acc, no_hidden, history.history['val_accuracy'][no_epochs-1]"
   ]
  },
  {
   "cell_type": "code",
   "execution_count": 4,
   "metadata": {},
   "outputs": [
    {
     "name": "stdout",
     "output_type": "stream",
     "text": [
      "hidden units 2 mean error = 0.94\n",
      "hidden units 4 mean error = 0.94\n",
      "hidden units 6 mean error = 0.94\n",
      "hidden units 8 mean error = 0.94\n",
      "hidden units 10 mean error = 0.96\n",
      "hidden units 12 mean error = 0.96\n",
      "* hidden units 10 accuracy 0.96 *\n"
     ]
    }
   ],
   "source": [
    "# input data\n",
    "iris = datasets.load_iris()\n",
    "iris.data -= np.mean(iris.data, axis=0)\n",
    "\n",
    "X = iris.data\n",
    "Y = iris.target\n",
    "no_data = len(iris.data)\n",
    "\n",
    "idx = np.arange(no_data)\n",
    "np.random.shuffle(idx)\n",
    "        \n",
    "acc, no_hidden, opt_acc = train_exp(X[idx], Y[idx])\n",
    " \n",
    "print('* hidden units %d accuracy %g *'%(no_hidden, opt_acc))"
   ]
  },
  {
   "cell_type": "code",
   "execution_count": 5,
   "metadata": {},
   "outputs": [
    {
     "data": {
      "image/png": "[encoded data removed]",
      "text/plain": [
       "<Figure size 432x288 with 1 Axes>"
      ]
     },
     "metadata": {
      "needs_background": "light"
     },
     "output_type": "display_data"
    }
   ],
   "source": [
    "plt.figure(1)\n",
    "plt.plot(hidden_units, acc, marker = 'x', linestyle = 'None')\n",
    "plt.xlabel('number of hidden units')\n",
    "plt.ylabel('validation accuracy')\n",
    "plt.title('Three-way data split')\n",
    "plt.savefig('./figures/5.3a_1.png')"
   ]
  }
 ],
 "metadata": {
  "kernelspec": {
   "display_name": "Python 3",
   "language": "python",
   "name": "python3"
  },
  "language_info": {
   "codemirror_mode": {
    "name": "ipython",
    "version": 3
   },
   "file_extension": ".py",
   "mimetype": "text/x-python",
   "name": "python",
   "nbconvert_exporter": "python",
   "pygments_lexer": "ipython3",
   "version": "3.7.9"
  }
 },
 "nbformat": 4,
 "nbformat_minor": 4
}
